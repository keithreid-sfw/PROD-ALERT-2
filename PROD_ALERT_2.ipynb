{
 "cells": [
  {
   "cell_type": "code",
   "execution_count": 23,
   "id": "2894660f",
   "metadata": {},
   "outputs": [
    {
     "name": "stdout",
     "output_type": "stream",
     "text": [
      "Welcome to PROD ALERT 2\n",
      "Getting Providers\n"
     ]
    }
   ],
   "source": [
    "\"\"\"\n",
    "\n",
    "PROD ALERT 2 CODE\n",
    "\n",
    "Copyright © 2023 Dr Keith S Reid Cailleach Computing Ltd\n",
    "\n",
    "keithreid@nhs.net\n",
    "\n",
    "Permission is hereby granted, free of charge, to any person obtaining a copy of this software and associated \n",
    "documentation files (the “Software”), to deal in the Software without restriction, including without limitation \n",
    "the rights to use, copy, modify, merge, publish, distribute, sublicense, and/or sell copies of the Software, and \n",
    "to permit persons to whom the Software is furnished to do so, subject to the following conditions:\n",
    "\n",
    "The above copyright notice and this permission notice shall be included in all copies or substantial portions \n",
    "of the Software.\n",
    "\n",
    "THE SOFTWARE IS PROVIDED “AS IS”, WITHOUT WARRANTY OF ANY KIND, EXPRESS OR IMPLIED, INCLUDING BUT NOT LIMITED \n",
    "TO THE WARRANTIES OF MERCHANTABILITY, FITNESS FOR A PARTICULAR PURPOSE AND NONINFRINGEMENT. IN NO EVENT SHALL \n",
    "THE AUTHORS OR COPYRIGHT HOLDERS BE LIABLE FOR ANY CLAIM, DAMAGES OR OTHER LIABILITY, WHETHER IN AN ACTION OF \n",
    "CONTRACT, TORT OR OTHERWISE, ARISING FROM, OUT OF OR IN CONNECTION WITH THE SOFTWARE OR THE USE OR OTHER \n",
    "DEALINGS IN THE SOFTWARE.\n",
    "\n",
    "\"\"\"\n",
    "\n",
    "# get\n",
    "\n",
    "def get_providers():\n",
    "    names_with_some_beds     = [\"foo care\", \"bar NHS trust\", \"St Spam\", \"St Jam\", \"St Spam\"]\n",
    "    providers                = sorted(list(set(names_with_some_beds)))\n",
    "    return providers\n",
    "\n",
    "# model \n",
    "\n",
    "# view\n",
    "\n",
    "if __name__==\"__main__\":\n",
    "    print(\"Welcome to PROD ALERT 2\")\n",
    "    print(\"Getting Providers\")\n",
    "    providers   = get_providers()\n",
    "    \n"
   ]
  },
  {
   "cell_type": "code",
   "execution_count": 24,
   "id": "0e681640",
   "metadata": {},
   "outputs": [
    {
     "name": "stdout",
     "output_type": "stream",
     "text": [
      "passed all tests\n"
     ]
    }
   ],
   "source": [
    "def test_get_providers():\n",
    "    providers = get_providers()\n",
    "    assert type(providers)    == list, \"type test\"\n",
    "    assert type(providers[1]) == str, \"type test\"\n",
    "    assert len(providers)  == len(set(providers)), \"uniqueness test\"\n",
    "    \n",
    "def all_tests():\n",
    "    test_get_providers()\n",
    "    print(\"passed all tests\")\n",
    "    \n",
    "all_tests()\n",
    "    "
   ]
  },
  {
   "cell_type": "code",
   "execution_count": null,
   "id": "378e591f",
   "metadata": {},
   "outputs": [],
   "source": []
  }
 ],
 "metadata": {
  "kernelspec": {
   "display_name": "Python 3 (ipykernel)",
   "language": "python",
   "name": "python3"
  },
  "language_info": {
   "codemirror_mode": {
    "name": "ipython",
    "version": 3
   },
   "file_extension": ".py",
   "mimetype": "text/x-python",
   "name": "python",
   "nbconvert_exporter": "python",
   "pygments_lexer": "ipython3",
   "version": "3.10.6"
  }
 },
 "nbformat": 4,
 "nbformat_minor": 5
}
