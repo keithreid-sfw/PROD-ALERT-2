{
 "cells": [
  {
   "cell_type": "code",
   "execution_count": 1,
   "id": "21d43515",
   "metadata": {},
   "outputs": [],
   "source": [
    "\"\"\"\n",
    "\n",
    "PROD ALERT 2 CODE\n",
    "\n",
    "Copyright © 2023 Dr Keith S Reid Cailleach Computing Ltd\n",
    "\n",
    "keithreid@nhs.net\n",
    "\n",
    "Permission is hereby granted, free of charge, to any person obtaining a copy of this software and associated \n",
    "documentation files (the “Software”), to deal in the Software without restriction, including without limitation \n",
    "the rights to use, copy, modify, merge, publish, distribute, sublicense, and/or sell copies of the Software, and \n",
    "to permit persons to whom the Software is furnished to do so, subject to the following conditions:\n",
    "\n",
    "The above copyright notice and this permission notice shall be included in all copies or substantial portions \n",
    "of the Software.\n",
    "\n",
    "THE SOFTWARE IS PROVIDED “AS IS”, WITHOUT WARRANTY OF ANY KIND, EXPRESS OR IMPLIED, INCLUDING BUT NOT LIMITED \n",
    "TO THE WARRANTIES OF MERCHANTABILITY, FITNESS FOR A PARTICULAR PURPOSE AND NONINFRINGEMENT. IN NO EVENT SHALL \n",
    "THE AUTHORS OR COPYRIGHT HOLDERS BE LIABLE FOR ANY CLAIM, DAMAGES OR OTHER LIABILITY, WHETHER IN AN ACTION OF \n",
    "CONTRACT, TORT OR OTHERWISE, ARISING FROM, OUT OF OR IN CONNECTION WITH THE SOFTWARE OR THE USE OR OTHER \n",
    "DEALINGS IN THE SOFTWARE.\n",
    "\n",
    "\"\"\";"
   ]
  },
  {
   "cell_type": "code",
   "execution_count": 2,
   "id": "0b4ceba0",
   "metadata": {},
   "outputs": [],
   "source": [
    "# libraries\n",
    "\n",
    "import pandas as pd"
   ]
  },
  {
   "cell_type": "code",
   "execution_count": 3,
   "id": "3a8e767c",
   "metadata": {},
   "outputs": [],
   "source": [
    "# config\n",
    "\n",
    "def get_beds_files():\n",
    "    beds_files = [\"beds01_Sep_2021.csv\", \"beds02_Oct_2021.csv\", \"beds03_Nov_2021.csv\"]\n",
    "    return beds_files\n",
    "\n",
    "def get_rstr_files():\n",
    "    rstr_files = [\"rstr01_Sep_2021.csv\", \"rstr02_Oct_2021.csv\", \"rstr03_Nov_2021.csv\"]\n",
    "    return rstr_files\n",
    "\n",
    "def get_verbose():\n",
    "    verbose = \"No\" # \"Yes\" or \"No\"\n",
    "    return verbose"
   ]
  },
  {
   "cell_type": "code",
   "execution_count": 4,
   "id": "f6e765fa",
   "metadata": {},
   "outputs": [],
   "source": [
    "# get data\n",
    "\n",
    "def get_providers():\n",
    "    beds_files              = get_beds_files()\n",
    "    names_with_some_beds    = []\n",
    "    for this_file in beds_files:\n",
    "        df          = pd.read_csv(this_file, header=None) # columns=[\"Month\",\"Provider\",\"Metric\",\"Count\"]\n",
    "        df.columns  = [\"Month\",\"Provider\",\"Metric\",\"Count\"]\n",
    "        for index, row in df.iterrows():\n",
    "            if row[\"Count\"] != \"*\":\n",
    "                names_with_some_beds.append(row[\"Provider\"])\n",
    "    providers   = sorted(list(set(names_with_some_beds)))\n",
    "    return providers"
   ]
  },
  {
   "cell_type": "code",
   "execution_count": 5,
   "id": "e09bc0c7",
   "metadata": {},
   "outputs": [],
   "source": [
    "# build tables\n",
    "\n",
    "def build_monthly_providers_beds(providers):\n",
    "    beds_files              = get_beds_files()\n",
    "    months                  = [x[4:10] for x in beds_files]\n",
    "    monthly_providers_beds  = pd.DataFrame(columns = months, index = providers)\n",
    "    for this_file in beds_files:\n",
    "        month                       = this_file[4:10]\n",
    "        monthly_bed_info            = pd.read_csv(this_file, header=None)\n",
    "        monthly_bed_info.columns    = [\"Month\",\"Provider\",\"Metric\",\"Count\"]\n",
    "        for index, row in monthly_bed_info.iterrows():\n",
    "            if row[\"Provider\"] in providers:\n",
    "                monthly_providers_beds.at[row[\"Provider\"], month] = row[\"Count\"]\n",
    "    return monthly_providers_beds\n",
    "\n",
    "def build_monthly_providers_rstr(providers):\n",
    "    rstr_files              = get_rstr_files()\n",
    "    months                  = [x[4:10] for x in rstr_files]\n",
    "    monthly_providers_rstr  = pd.DataFrame(columns = months, index = providers)\n",
    "    for this_file in rstr_files:\n",
    "        month                       = this_file[4:10]\n",
    "        monthly_rstr_info            = pd.read_csv(this_file, header=None)\n",
    "        monthly_rstr_info.columns    = [\"Month\",\"Provider\",\"Metric\",\"Count\"]\n",
    "        for index, row in monthly_rstr_info.iterrows():\n",
    "            if row[\"Provider\"] in providers:\n",
    "                monthly_providers_rstr.at[row[\"Provider\"], month] = row[\"Count\"]\n",
    "    return monthly_providers_rstr"
   ]
  },
  {
   "cell_type": "code",
   "execution_count": 6,
   "id": "a71a94d1",
   "metadata": {},
   "outputs": [],
   "source": [
    "# maths model\n",
    "\n"
   ]
  },
  {
   "cell_type": "code",
   "execution_count": 7,
   "id": "4605ffc1",
   "metadata": {},
   "outputs": [],
   "source": [
    "# view\n",
    "\n",
    "def greet():\n",
    "    print(\"Welcome to PROD ALERT 2\")\n",
    "    \n",
    "def maybe_tell_providers(providers):\n",
    "    verbose = get_verbose()\n",
    "    if verbose == \"Yes\":\n",
    "        print(\"\\nThese providers had some beds:\\n\")\n",
    "        for this_provider in providers:\n",
    "            print(\"\\t\",this_provider)\n",
    "            \n",
    "def maybe_tell_monthly_providers_beds(monthy_providers_beds):\n",
    "    verbose = get_verbose()\n",
    "    if verbose == \"Yes\":\n",
    "        print(\"\\nHere is a table of monthly providers and beds:\\n\")\n",
    "        display(monthly_providers_beds)\n",
    "        \n",
    "def maybe_tell_monthly_providers_rstr(monthy_providers_rstr):\n",
    "    verbose = get_verbose()\n",
    "    if verbose == \"Yes\":\n",
    "        print(\"\\nHere is a table of monthly providers and reported people restrained per month:\\n\")\n",
    "        display(monthly_providers_rstr)"
   ]
  },
  {
   "cell_type": "code",
   "execution_count": 8,
   "id": "6139494f",
   "metadata": {},
   "outputs": [
    {
     "name": "stdout",
     "output_type": "stream",
     "text": [
      "Welcome to PROD ALERT 2\n"
     ]
    }
   ],
   "source": [
    "# control\n",
    "\n",
    "if __name__==\"__main__\":\n",
    "                \n",
    "    greet()\n",
    "                            \n",
    "    providers               = get_providers()\n",
    "    monthly_providers_beds  = build_monthly_providers_beds(providers)\n",
    "    monthly_providers_rstr  = build_monthly_providers_rstr(providers)\n",
    "\n",
    "    maybe_tell_providers(providers)\n",
    "    maybe_tell_monthly_providers_beds(monthly_providers_beds)\n",
    "    maybe_tell_monthly_providers_rstr(monthly_providers_rstr)\n"
   ]
  },
  {
   "cell_type": "code",
   "execution_count": 9,
   "id": "f9964820",
   "metadata": {},
   "outputs": [],
   "source": [
    "    # monthly_provider_sect = build_monthly_provider_sect()"
   ]
  },
  {
   "cell_type": "code",
   "execution_count": 10,
   "id": "87a42ed9",
   "metadata": {},
   "outputs": [
    {
     "name": "stdout",
     "output_type": "stream",
     "text": [
      "passed build monthly providers beds\n",
      "passed build monthly providers rstr\n",
      "passed get providers\n",
      "passed all tests\n"
     ]
    }
   ],
   "source": [
    "# tests\n",
    "\n",
    "def test_build_monthly_providers_beds():\n",
    "    providers              = get_providers()\n",
    "    monthly_providers_beds = build_monthly_providers_beds(providers)\n",
    "    assert type(monthly_providers_beds)    == pd.DataFrame, \"type test\"\n",
    "    assert type(monthly_providers_beds[\"01_Sep\"]) == pd.Series, \"type test\"\n",
    "    assert monthly_providers_beds.at[\"WEST LONDON NHS TRUST\",\"01_Sep\"] == \"19235\", \"correct value and type\"\n",
    "    assert monthly_providers_beds.at[\"WEST LONDON NHS TRUST\",\"01_Sep\"] != 19235,   \"correct value and type\"\n",
    "    assert monthly_providers_beds.at[\"WEST LONDON NHS TRUST\",\"01_Sep\"] != \"999\",   \"correct value and type\"\n",
    "    assert len(monthly_providers_beds)     == len(set(providers)), \"uniqueness test\"\n",
    "    assert monthly_providers_beds.index[1] == providers[1], \"matches providers test\"\n",
    "    print(\"passed build monthly providers beds\")\n",
    "    \n",
    "def test_build_monthly_providers_rstr():\n",
    "    providers              = get_providers()\n",
    "    monthly_providers_rstr = build_monthly_providers_rstr(providers)\n",
    "    assert type(monthly_providers_rstr)    == pd.DataFrame, \"type test\"\n",
    "    assert type(monthly_providers_rstr[\"01_Sep\"]) == pd.Series, \"type test\"\n",
    "    assert monthly_providers_rstr.at[\"WEST LONDON NHS TRUST\",\"01_Sep\"] == \"75\", \"correct value and type\"\n",
    "    assert monthly_providers_rstr.at[\"WEST LONDON NHS TRUST\",\"01_Sep\"] != 75,   \"correct value and type\"\n",
    "    assert monthly_providers_rstr.at[\"WEST LONDON NHS TRUST\",\"01_Sep\"] != \"999\",\"correct value and type\"  \n",
    "    assert len(monthly_providers_rstr)     == len(set(providers)), \"uniqueness test\"\n",
    "    assert monthly_providers_rstr.index[1] == providers[1], \"matches providers test\"\n",
    "    print(\"passed build monthly providers rstr\")\n",
    "    \n",
    "def test_get_providers():\n",
    "    providers = get_providers()\n",
    "    assert type(providers)    == list, \"type test\"\n",
    "    assert type(providers[1]) == str, \"type test\"\n",
    "    assert len(providers)  == len(set(providers)), \"uniqueness test\"\n",
    "    print(\"passed get providers\")\n",
    "    \n",
    "def all_tests():\n",
    "    test_build_monthly_providers_beds()\n",
    "    test_build_monthly_providers_rstr()\n",
    "    test_get_providers()\n",
    "    print(\"passed all tests\")\n",
    "    \n",
    "all_tests()    "
   ]
  },
  {
   "cell_type": "code",
   "execution_count": null,
   "id": "a78ec471",
   "metadata": {},
   "outputs": [],
   "source": []
  },
  {
   "cell_type": "code",
   "execution_count": null,
   "id": "9c0cc079",
   "metadata": {},
   "outputs": [],
   "source": []
  }
 ],
 "metadata": {
  "kernelspec": {
   "display_name": "Python 3 (ipykernel)",
   "language": "python",
   "name": "python3"
  },
  "language_info": {
   "codemirror_mode": {
    "name": "ipython",
    "version": 3
   },
   "file_extension": ".py",
   "mimetype": "text/x-python",
   "name": "python",
   "nbconvert_exporter": "python",
   "pygments_lexer": "ipython3",
   "version": "3.10.6"
  }
 },
 "nbformat": 4,
 "nbformat_minor": 5
}
